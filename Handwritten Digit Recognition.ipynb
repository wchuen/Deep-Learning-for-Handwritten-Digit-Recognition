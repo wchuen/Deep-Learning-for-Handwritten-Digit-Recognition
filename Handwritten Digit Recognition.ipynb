{
 "cells": [
  {
   "cell_type": "code",
   "execution_count": null,
   "metadata": {
    "colab": {},
    "colab_type": "code",
    "id": "4rtDyOYs5iZg"
   },
   "outputs": [],
   "source": [
    "import numpy as np\n",
    "import os\n",
    "#download database of images from MNIST website\n",
    "def load_dataset():\n",
    "  # download specified file from Yann Lecun's website and store it on local disk\n",
    "  def download(filename, source='http://yann.lecun.com/exdb/mnist/'):\n",
    "    print(\"Downloading \",filename)\n",
    "    import urllib\n",
    "    urllib.urlretrieve(source + filename, filename)\n",
    "\n",
    "  import gzip\n",
    "\n",
    "  def load_mnist_images(filename):\n",
    "    #check if specified file exists on local disk, if not download the file\n",
    "    if not os.path.exists(filename):\n",
    "      download(filename)\n",
    "    \n",
    "    #open zip file of images\n",
    "    with gzip.open(filename, 'rb') as f:\n",
    "      data = np.frombuffer(f.read(), np.uint8, offset =  16) #some boilerplate to extract data from the zip file\n",
    "\n",
    "      #problem 1: data is in form of 1d array\n",
    "      #need take this array and convert it into images\n",
    "      #Each image has 28x28 pixels, its a monochrome image so only 1 channel\n",
    "      #(full-colour would have 3/4 channels(rgb))\n",
    "\n",
    "      #solution: data is currently a numpy array, so need reshape to array of 28x28 images\n",
    "      data = data.reshape(-1,1,28,28)\n",
    "      #dimension 1: # of images, -1 means infer from value of other parameters\n",
    "      #dimension 2: # of channeels\n",
    "      #dimension 3 and 4: size of the image (28x28) \n",
    "\n",
    "      #problem 2: numbers in form of bytes\n",
    "      return data/np.float32(256) #converts byte value to a float32 in the range of [0,1]\n",
    "    \n",
    "  def load_mnist_labels(filename):\n",
    "    #read labels which are in a binary file\n",
    "    if not os.path.exists(filename):\n",
    "      download(filename)\n",
    "    with gzip.open(filename, 'rb') as f:\n",
    "      data = np.frombuffer(f.read(), np.uint8, offset = 8) \n",
    "      #this gives a numpy array of integers, the digit corresponds\n",
    "      #to the images obtained above\n",
    "\n",
    "    return data\n",
    "\n",
    "  X_train = load_mnist_images('train-images-idx3-ubyte.gz')\n",
    "  Y_train = load_mnist_labels('train-labels-idx1-ubyte.gz')\n",
    "  X_test = load_mnist_images('t10k-images-idx3-ubyte.gz')\n",
    "  Y_test = load_mnist_labels('t10k-labels-idx1-ubyte.gz')\n",
    "\n",
    "  return X_train, Y_train, X_test, Y_test"
   ]
  },
  {
   "cell_type": "code",
   "execution_count": null,
   "metadata": {
    "colab": {
     "base_uri": "https://localhost:8080/",
     "height": 311
    },
    "colab_type": "code",
    "id": "Xuoo8YF2Dn61",
    "outputId": "78852230-8488-45bf-f288-89ed29b905a0"
   },
   "outputs": [],
   "source": [
    "X_train, Y_train, X_test, Y_test = load_dataset()"
   ]
  },
  {
   "cell_type": "code",
   "execution_count": null,
   "metadata": {},
   "outputs": [],
   "source": [
    "import matplotlib\n",
    "matplotlib.use('TkAgg')\n",
    "\n",
    "import matplotlib.pyplot as plt\n",
    "plt.show(block = plt.imshow(X_train[12][0]))"
   ]
  },
  {
   "cell_type": "code",
   "execution_count": null,
   "metadata": {},
   "outputs": [],
   "source": []
  }
 ],
 "metadata": {
  "colab": {
   "collapsed_sections": [],
   "name": "Handwritten Digit Recognition.ipynb",
   "provenance": []
  },
  "kernelspec": {
   "display_name": "Python 3",
   "language": "python",
   "name": "python3"
  },
  "language_info": {
   "codemirror_mode": {
    "name": "ipython",
    "version": 3
   },
   "file_extension": ".py",
   "mimetype": "text/x-python",
   "name": "python",
   "nbconvert_exporter": "python",
   "pygments_lexer": "ipython3",
   "version": "3.7.6"
  }
 },
 "nbformat": 4,
 "nbformat_minor": 1
}
